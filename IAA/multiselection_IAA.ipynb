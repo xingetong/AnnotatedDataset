{
 "cells": [
  {
   "cell_type": "code",
   "execution_count": null,
   "metadata": {
    "colab": {
     "base_uri": "https://localhost:8080/"
    },
    "executionInfo": {
     "elapsed": 1892,
     "status": "ok",
     "timestamp": 1741002016895,
     "user": {
      "displayName": "X Tong",
      "userId": "11577866354390887224"
     },
     "user_tz": 0
    },
    "id": "3sppB_hp_49l",
    "outputId": "c2068bd1-e6e9-40ac-8a72-1baaaa77c932"
   },
   "outputs": [],
   "source": [
    "from google.colab import drive\n",
    "drive.mount('/content/drive')"
   ]
  },
  {
   "cell_type": "code",
   "execution_count": null,
   "metadata": {
    "executionInfo": {
     "elapsed": 2978,
     "status": "ok",
     "timestamp": 1741002019874,
     "user": {
      "displayName": "X Tong",
      "userId": "11577866354390887224"
     },
     "user_tz": 0
    },
    "id": "UCrwmKhk_47j"
   },
   "outputs": [],
   "source": [
    "import pandas as pd\n",
    "from sklearn.metrics import cohen_kappa_score"
   ]
  },
  {
   "cell_type": "code",
   "execution_count": null,
   "metadata": {
    "colab": {
     "base_uri": "https://localhost:8080/",
     "height": 256
    },
    "executionInfo": {
     "elapsed": 118,
     "status": "ok",
     "timestamp": 1741002247807,
     "user": {
      "displayName": "X Tong",
      "userId": "11577866354390887224"
     },
     "user_tz": 0
    },
    "id": "iSBuwDAO_45b",
    "outputId": "1d379c49-8da8-4c1d-f366-4e291774efe6"
   },
   "outputs": [],
   "source": [
    "data = pd.read_csv('/content/drive/My Drive/AnnotationDataset_paper/datasets/multi_selection_onelabel_three.csv')\n",
    "# data = pd.read_csv('/content/drive/My Drive/AnnotationDataset_paper/datasets/multi_selection_twolabel_three.csv')\n",
    "# data = pd.read_csv('/content/drive/My Drive/AnnotationDataset_paper/datasets/multi_selection_threelabel_three.csv')\n",
    "# data = pd.read_csv('/content/drive/My Drive/AnnotationDataset_paper/datasets/multi_selection_unequallabel_three.csv')\n",
    "data.head()"
   ]
  },
  {
   "cell_type": "code",
   "execution_count": null,
   "metadata": {
    "executionInfo": {
     "elapsed": 64,
     "status": "ok",
     "timestamp": 1741002249792,
     "user": {
      "displayName": "X Tong",
      "userId": "11577866354390887224"
     },
     "user_tz": 0
    },
    "id": "lFUVKSUU_43a"
   },
   "outputs": [],
   "source": [
    "reshaped_data = {}\n",
    "for _, row in data.iterrows():\n",
    "    review_id = row['review_id']\n",
    "    annotator = row['annotator']\n",
    "    topics = [(f'main', row[f'main{i+1}_sentiment3']) for i in range(3) if pd.notna(row[f'main{i+1}_sentiment3'])]\n",
    "\n",
    "    if review_id not in reshaped_data:\n",
    "        reshaped_data[review_id] = {}\n",
    "    reshaped_data[review_id][annotator] = topics"
   ]
  },
  {
   "cell_type": "code",
   "execution_count": null,
   "metadata": {
    "colab": {
     "base_uri": "https://localhost:8080/"
    },
    "executionInfo": {
     "elapsed": 43,
     "status": "ok",
     "timestamp": 1741002251212,
     "user": {
      "displayName": "X Tong",
      "userId": "11577866354390887224"
     },
     "user_tz": 0
    },
    "id": "zzrXpKAe_41T",
    "outputId": "505f84c4-001a-4be0-e7b7-cedbcd1b0bc6"
   },
   "outputs": [],
   "source": [
    "def extract_annotations(reshaped_data, annotator):\n",
    "    annotations = []\n",
    "    for entry in reshaped_data.values():\n",
    "        if annotator in entry:\n",
    "            annotations.append(entry[annotator])\n",
    "        else:\n",
    "            annotations.append([])\n",
    "    return annotations\n",
    "\n",
    "def prepare_comparison_data(annotations1, annotations2):\n",
    "    comparison_data = []\n",
    "    for ann1, ann2 in zip(annotations1, annotations2):\n",
    "        combined = set(ann1).union(set(ann2))\n",
    "        for topic in combined:\n",
    "            sentiment1 = next((s for t, s in ann1 if t == topic[0]), 'none')\n",
    "            sentiment2 = next((s for t, s in ann2 if t == topic[0]), 'none')\n",
    "            comparison_data.append((sentiment1, sentiment2))\n",
    "    return comparison_data\n",
    "\n",
    "def calculate_kappa(reshaped_data):\n",
    "    all_annotators = set(annotator for entry in reshaped_data.values() for annotator in entry.keys())\n",
    "    annotators = list(all_annotators)\n",
    "    kappas = {}\n",
    "    for i in range(len(annotators)):\n",
    "        for j in range(i + 1, len(annotators)):\n",
    "            annotations1 = extract_annotations(reshaped_data, annotators[i])\n",
    "            annotations2 = extract_annotations(reshaped_data, annotators[j])\n",
    "            comparison_data = prepare_comparison_data(annotations1, annotations2)\n",
    "            if comparison_data:  # Check if there is comparison data to compute kappa\n",
    "                sentiments1, sentiments2 = zip(*comparison_data)\n",
    "                kappa = cohen_kappa_score(sentiments1, sentiments2)\n",
    "                kappas[(annotators[i], annotators[j])] = kappa\n",
    "    return kappas\n",
    "\n",
    "kappa_results = calculate_kappa(reshaped_data)\n",
    "\n",
    "for annotators_pair, kappa in kappa_results.items():\n",
    "    print(f\"Cohen's Kappa between {annotators_pair[0]} and {annotators_pair[1]}: {kappa:.3f}\")"
   ]
  }
 ],
 "metadata": {
  "colab": {
   "authorship_tag": "ABX9TyMkVbb0o8zlM5G7bIcjBvmz",
   "provenance": []
  },
  "kernelspec": {
   "display_name": "Python 3 (ipykernel)",
   "language": "python",
   "name": "python3"
  },
  "language_info": {
   "codemirror_mode": {
    "name": "ipython",
    "version": 3
   },
   "file_extension": ".py",
   "mimetype": "text/x-python",
   "name": "python",
   "nbconvert_exporter": "python",
   "pygments_lexer": "ipython3",
   "version": "3.9.12"
  }
 },
 "nbformat": 4,
 "nbformat_minor": 4
}
