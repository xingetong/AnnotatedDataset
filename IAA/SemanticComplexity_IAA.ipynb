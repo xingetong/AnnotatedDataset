{
 "cells": [
  {
   "cell_type": "code",
   "execution_count": null,
   "metadata": {
    "executionInfo": {
     "elapsed": 4112,
     "status": "ok",
     "timestamp": 1740755645845,
     "user": {
      "displayName": "X Tong",
      "userId": "11577866354390887224"
     },
     "user_tz": 0
    },
    "id": "tVTn6U4jHu7d"
   },
   "outputs": [],
   "source": [
    "import pandas as pd\n",
    "from sklearn.metrics import cohen_kappa_score\n",
    "from itertools import combinations"
   ]
  },
  {
   "cell_type": "code",
   "execution_count": null,
   "metadata": {
    "colab": {
     "base_uri": "https://localhost:8080/"
    },
    "executionInfo": {
     "elapsed": 19395,
     "status": "ok",
     "timestamp": 1740755665245,
     "user": {
      "displayName": "X Tong",
      "userId": "11577866354390887224"
     },
     "user_tz": 0
    },
    "id": "k8Mua9ebHu5o",
    "outputId": "0dfd35d3-44a5-43bd-b4b8-49711e95dc4c"
   },
   "outputs": [],
   "source": [
    "from google.colab import drive\n",
    "drive.mount('/content/drive')"
   ]
  },
  {
   "cell_type": "code",
   "execution_count": null,
   "metadata": {
    "colab": {
     "base_uri": "https://localhost:8080/",
     "height": 444
    },
    "executionInfo": {
     "elapsed": 510,
     "status": "ok",
     "timestamp": 1740756562840,
     "user": {
      "displayName": "X Tong",
      "userId": "11577866354390887224"
     },
     "user_tz": 0
    },
    "id": "49LfmoXBHu3T",
    "outputId": "53951eac-bdf9-4482-a534-bccd02d68a3f"
   },
   "outputs": [],
   "source": [
    "df = pd.read_csv('/content/drive/My Drive/AnnotationDataset_paper/datasets/multi_selection_2.csv')\n",
    "df"
   ]
  },
  {
   "cell_type": "code",
   "execution_count": null,
   "metadata": {
    "executionInfo": {
     "elapsed": 17,
     "status": "ok",
     "timestamp": 1740756565458,
     "user": {
      "displayName": "X Tong",
      "userId": "11577866354390887224"
     },
     "user_tz": 0
    },
    "id": "caBk2yVDHu1J"
   },
   "outputs": [],
   "source": [
    "df_pivot = df.pivot(index='review_id', columns='annotator')\n",
    "df_pivot.columns = [f'{col[0]}_{col[1]}' for col in df_pivot.columns]"
   ]
  },
  {
   "cell_type": "code",
   "execution_count": null,
   "metadata": {
    "executionInfo": {
     "elapsed": 3,
     "status": "ok",
     "timestamp": 1740756565856,
     "user": {
      "displayName": "X Tong",
      "userId": "11577866354390887224"
     },
     "user_tz": 0
    },
    "id": "pWvBLpamHuxA"
   },
   "outputs": [],
   "source": [
    "def calculate_kappa(df, topic):\n",
    "    annotators = ['evaluator', 'annotator1', 'annotator2']\n",
    "    kappas = {}\n",
    "    for i in range(len(annotators)):\n",
    "        for j in range(i+1, len(annotators)):\n",
    "            topic_i = f'{topic}_{annotators[i]}'\n",
    "            topic_j = f'{topic}_{annotators[j]}'\n",
    "\n",
    "            df_pair = df[[topic_i, topic_j]].dropna()\n",
    "            kappa = cohen_kappa_score(df_pair[topic_i], df_pair[topic_j])\n",
    "            kappas[f'{annotators[i]}-{annotators[j]}'] = kappa\n",
    "    return kappas"
   ]
  },
  {
   "cell_type": "code",
   "execution_count": null,
   "metadata": {
    "colab": {
     "base_uri": "https://localhost:8080/"
    },
    "executionInfo": {
     "elapsed": 224,
     "status": "ok",
     "timestamp": 1740756581869,
     "user": {
      "displayName": "X Tong",
      "userId": "11577866354390887224"
     },
     "user_tz": 0
    },
    "id": "fWrtubxcHuux",
    "outputId": "ad6f372e-be70-4f24-b300-28fcc508ceb2"
   },
   "outputs": [],
   "source": [
    "kappa_results = {}\n",
    "topics = ['sub1_only', 'sub2_only', 'sub3_only']\n",
    "\n",
    "for topic in topics:\n",
    "    kappa_results[topic] = calculate_kappa(df_pivot, topic)\n",
    "\n",
    "average_kappa_results = {}\n",
    "annotators_pairs = ['evaluator-annotator1', 'evaluator-annotator2', 'annotator1-annotator2']\n",
    "\n",
    "for pair in annotators_pairs:\n",
    "    kappa_values = [kappa_results[topic][pair] for topic in topics]\n",
    "    average_kappa_results[pair] = sum(kappa_values) / len(kappa_values)\n",
    "\n",
    "for topic, kappas in kappa_results.items():\n",
    "    print(f'\\nKappa scores for {topic}:')\n",
    "    for annotators, kappa in kappas.items():\n",
    "        print(f'{annotators}: {kappa:.3f}')\n",
    "\n",
    "print('\\nAverage Kappa scores across all topics:')\n",
    "for annotators, avg_kappa in average_kappa_results.items():\n",
    "    print(f'{annotators}: {avg_kappa:.4f}')"
   ]
  },
  {
   "cell_type": "code",
   "execution_count": null,
   "metadata": {
    "id": "KDqzhoNYHs-q"
   },
   "outputs": [],
   "source": []
  }
 ],
 "metadata": {
  "colab": {
   "authorship_tag": "ABX9TyOSIBbzLWoKwxX0nDm6sJdM",
   "provenance": []
  },
  "kernelspec": {
   "display_name": "Python 3 (ipykernel)",
   "language": "python",
   "name": "python3"
  },
  "language_info": {
   "codemirror_mode": {
    "name": "ipython",
    "version": 3
   },
   "file_extension": ".py",
   "mimetype": "text/x-python",
   "name": "python",
   "nbconvert_exporter": "python",
   "pygments_lexer": "ipython3",
   "version": "3.9.12"
  }
 },
 "nbformat": 4,
 "nbformat_minor": 4
}
