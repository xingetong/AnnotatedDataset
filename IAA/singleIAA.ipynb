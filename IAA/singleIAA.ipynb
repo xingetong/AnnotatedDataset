{
 "cells": [
  {
   "cell_type": "code",
   "execution_count": null,
   "metadata": {
    "id": "WnpNhGv9rdXX"
   },
   "outputs": [],
   "source": [
    "!pip install krippendorff"
   ]
  },
  {
   "cell_type": "code",
   "execution_count": null,
   "metadata": {
    "colab": {
     "base_uri": "https://localhost:8080/"
    },
    "executionInfo": {
     "elapsed": 871,
     "status": "ok",
     "timestamp": 1741008392605,
     "user": {
      "displayName": "X Tong",
      "userId": "11577866354390887224"
     },
     "user_tz": 0
    },
    "id": "9pM5_hcnq2Eq",
    "outputId": "a952282e-9da1-4d5b-e966-b4fd02eb6337"
   },
   "outputs": [],
   "source": [
    "from google.colab import drive\n",
    "drive.mount('/content/drive')"
   ]
  },
  {
   "cell_type": "code",
   "execution_count": null,
   "metadata": {
    "executionInfo": {
     "elapsed": 3,
     "status": "ok",
     "timestamp": 1741008393376,
     "user": {
      "displayName": "X Tong",
      "userId": "11577866354390887224"
     },
     "user_tz": 0
    },
    "id": "4UY0oM7krGXG"
   },
   "outputs": [],
   "source": [
    "import pandas as pd\n",
    "import numpy as np\n",
    "from sklearn.metrics import cohen_kappa_score\n",
    "import krippendorff\n",
    "from sklearn.preprocessing import LabelEncoder"
   ]
  },
  {
   "cell_type": "code",
   "execution_count": null,
   "metadata": {
    "colab": {
     "base_uri": "https://localhost:8080/",
     "height": 843
    },
    "executionInfo": {
     "elapsed": 176,
     "status": "ok",
     "timestamp": 1741008417515,
     "user": {
      "displayName": "X Tong",
      "userId": "11577866354390887224"
     },
     "user_tz": 0
    },
    "id": "tIlbR52xq67l",
    "outputId": "bbed5966-40bf-49a0-9f1c-b85f6be5b1ef"
   },
   "outputs": [],
   "source": [
    "df = pd.read_csv('/content/drive/My Drive/AnnotationDataset_paper/datasets/single_selection.csv')\n",
    "df"
   ]
  },
  {
   "cell_type": "markdown",
   "metadata": {
    "id": "3ZZLZQd9yh72"
   },
   "source": [
    "# brennan prediger& Fleiss’s Generalized Kappa Coefficient\n"
   ]
  },
  {
   "cell_type": "code",
   "execution_count": null,
   "metadata": {
    "executionInfo": {
     "elapsed": 13,
     "status": "ok",
     "timestamp": 1741008567363,
     "user": {
      "displayName": "X Tong",
      "userId": "11577866354390887224"
     },
     "user_tz": 0
    },
    "id": "7lk-Gq9QykUW"
   },
   "outputs": [],
   "source": [
    "def calculate_brennan_prediger(data1, data2):\n",
    "    observed_agreement = np.mean(data1 == data2)\n",
    "    n_categories = len(np.unique(np.concatenate([data1, data2])))\n",
    "    chance_agreement = 1 / n_categories\n",
    "    bp_coefficient = (observed_agreement - chance_agreement) / (1 - chance_agreement)\n",
    "    return bp_coefficient\n",
    "\n",
    "def calculate_fleiss_kappa(df, annotators):\n",
    "    le = LabelEncoder()\n",
    "\n",
    "    all_annotations = []\n",
    "    for annotator in annotators:\n",
    "        all_annotations.extend(df[annotator][df[annotator] != '0'].values)\n",
    "    le.fit(all_annotations)\n",
    "\n",
    "    n_categories = len(le.classes_)\n",
    "\n",
    "    n_annotators = len(annotators)\n",
    "    n_items = len(df)\n",
    "\n",
    "    M = np.zeros((n_items, n_categories))\n",
    "\n",
    "    for i in range(n_items):\n",
    "        for annotator in annotators:\n",
    "            label = df.iloc[i][annotator]\n",
    "            if label != '0':  # Skip missing values\n",
    "                category_idx = le.transform([label])[0]\n",
    "                M[i, category_idx] += 1\n",
    "\n",
    "    n = np.sum(M, axis=1)  \n",
    "    mask = n > 1  \n",
    "    n = n[mask]\n",
    "    M = M[mask]\n",
    "\n",
    "    P_i = (np.sum(M * (M - 1), axis=1)) / (n * (n - 1))\n",
    "    P = np.mean(P_i)\n",
    "\n",
    "    P_e = np.sum(np.sum(M, axis=0) ** 2) / (np.sum(n) ** 2)\n",
    "\n",
    "    kappa = (P - P_e) / (1 - P_e)\n",
    "\n",
    "    return kappa\n",
    "\n",
    "def prepare_data(df, annotator1_col, annotator2_col):\n",
    "    data1 = df[annotator1_col].replace('0', np.nan)\n",
    "    data2 = df[annotator2_col].replace('0', np.nan)\n",
    "    valid_idx = ~(data1.isna() | data2.isna())\n",
    "    return data1[valid_idx], data2[valid_idx]\n",
    "\n",
    "def calculate_agreement_scores(df):\n",
    "    annotators = ['ft_sentiment_five', 'a1_sentiment_five', 'a2_sentiment_five']\n",
    "\n",
    "    fleiss_kappa = calculate_fleiss_kappa(df, annotators)\n",
    "    print(f\"\\nFleiss' Kappa (overall agreement): {fleiss_kappa:.3f}\")\n",
    "\n",
    "    pairs = []\n",
    "    for i in range(len(annotators)):\n",
    "        for j in range(i + 1, len(annotators)):\n",
    "            pairs.append((annotators[i], annotators[j]))\n",
    "\n",
    "    results = []\n",
    "    for ann1, ann2 in pairs:\n",
    "        data1, data2 = prepare_data(df, ann1, ann2)\n",
    "\n",
    "        if len(data1) > 0:\n",
    "            le = LabelEncoder()\n",
    "            all_labels = pd.concat([data1, data2])\n",
    "            le.fit(all_labels)\n",
    "\n",
    "            data1_encoded = le.transform(data1)\n",
    "            data2_encoded = le.transform(data2)\n",
    "\n",
    "            kappa = cohen_kappa_score(data1_encoded, data2_encoded)\n",
    "            bp = calculate_brennan_prediger(data1_encoded, data2_encoded)\n",
    "            agreement = (data1 == data2).mean() * 100\n",
    "\n",
    "            results.append({\n",
    "                'Annotator Pair': f'{ann1} - {ann2}',\n",
    "                'Cohen\\'s Kappa': kappa,\n",
    "                'Brennan-Prediger': bp,\n",
    "                'Percentage Agreement': agreement,\n",
    "                'Valid Annotations': len(data1),\n",
    "                'Number of Categories': len(le.classes_)\n",
    "            })\n",
    "\n",
    "    return pd.DataFrame(results)"
   ]
  },
  {
   "cell_type": "code",
   "execution_count": null,
   "metadata": {
    "colab": {
     "base_uri": "https://localhost:8080/"
    },
    "executionInfo": {
     "elapsed": 3396,
     "status": "ok",
     "timestamp": 1741008572399,
     "user": {
      "displayName": "X Tong",
      "userId": "11577866354390887224"
     },
     "user_tz": 0
    },
    "id": "HOTz-xWEyy6-",
    "outputId": "12201ef4-06e4-45a0-bcfd-5f9c96ee4ff2"
   },
   "outputs": [],
   "source": [
    "results = calculate_agreement_scores(df)\n",
    "print(\"\\nPairwise Agreement Scores:\")\n",
    "print(results.round(3).to_string(index=False))"
   ]
  }
 ],
 "metadata": {
  "colab": {
   "authorship_tag": "ABX9TyM4KS5aXN6q1LfO0FjGxFTF",
   "collapsed_sections": [
    "LgCg1meTupv2",
    "odUbOkc8utD2",
    "dvgARBekwOTm",
    "q35OMJjMwQc3"
   ],
   "provenance": []
  },
  "kernelspec": {
   "display_name": "Python 3 (ipykernel)",
   "language": "python",
   "name": "python3"
  },
  "language_info": {
   "codemirror_mode": {
    "name": "ipython",
    "version": 3
   },
   "file_extension": ".py",
   "mimetype": "text/x-python",
   "name": "python",
   "nbconvert_exporter": "python",
   "pygments_lexer": "ipython3",
   "version": "3.9.12"
  }
 },
 "nbformat": 4,
 "nbformat_minor": 4
}
